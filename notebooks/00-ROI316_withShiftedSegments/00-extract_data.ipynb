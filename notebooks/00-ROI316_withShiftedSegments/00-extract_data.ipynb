{
 "cells": [
  {
   "cell_type": "code",
   "execution_count": 1,
   "metadata": {
    "colab": {},
    "colab_type": "code",
    "executionInfo": {
     "elapsed": 300,
     "status": "ok",
     "timestamp": 1600289752525,
     "user": {
      "displayName": "Chirag Limbachia",
      "photoUrl": "",
      "userId": "10195392693938188852"
     },
     "user_tz": 240
    },
    "id": "S8_A1AlOKN2E"
   },
   "outputs": [],
   "source": [
    "import numpy as np\n",
    "import pandas as pd\n",
    "\n",
    "from os.path import join, exists, isfile #, isdir, dirname, exists\n",
    "#from os import mkdir\n",
    "\n",
    "import pickle\n",
    "\n",
    "from src.preprocess.stim_times import *"
   ]
  },
  {
   "cell_type": "code",
   "execution_count": 2,
   "metadata": {},
   "outputs": [],
   "source": [
    "# Project path\n",
    "raw_path = '/home/climbach/approach-retreat/data/raw'\n",
    "interim_path = '/home/climbach/approach-retreat/data/interim'\n",
    "processed_path = '/home/climbach/approach-retreat/data/processed'\n",
    "\n",
    "yoked = pd.read_excel(join(raw_path,'CON_yoked_table.xlsx'))\n",
    "yoked = yoked.query('use == 1')\n",
    "\n",
    "run_vars = ['run%s' % i for i in range(6)]\n",
    "control = yoked[['control'] + run_vars]\n",
    "uncontrol = yoked[['uncontrol'] + run_vars]"
   ]
  },
  {
   "cell_type": "raw",
   "metadata": {},
   "source": [
    "%%bash\n",
    "# Extract ROI timeseries\n",
    "\n",
    "raw_path=/home/climbach/approach-retreat/data/raw\n",
    "interim_path=/home/climbach/approach-retreat/data/interim\n",
    "processed_path=/home/climbach/approach-retreat/data/processed\n",
    "cortical_mask=$processed_path/masks/00b-Schaefer2018_300Parcels_17Networks_order_afniMNI152_2mm_GM.nii.gz\n",
    "subcortical_mask=$processed_path/masks/00b-subcortical_ROIs.nii.gz\n",
    "\n",
    "for func in `ls $raw_path/CON???/CON???_EP_TR_MNI_2mm_SI_denoised_NoBaseline.nii.gz`\n",
    "do\n",
    "    subj=$(basename `dirname $func`)\n",
    "    \n",
    "    outDir=$interim_path/$subj\n",
    "    mkdir $outDir\n",
    "    3dROIstats -quiet -mask $cortical_mask $func > $outDir/${subj}_cortical_meanTS.1D\n",
    "    3dROIstats -quiet -mask $subcortical_mask $func > $outDir/${subj}_subcortical_meanTS.1D\n",
    "done"
   ]
  },
  {
   "cell_type": "code",
   "execution_count": 3,
   "metadata": {
    "colab": {
     "base_uri": "https://localhost:8080/",
     "height": 68
    },
    "colab_type": "code",
    "executionInfo": {
     "elapsed": 4141,
     "status": "ok",
     "timestamp": 1600289699243,
     "user": {
      "displayName": "Chirag Limbachia",
      "photoUrl": "",
      "userId": "10195392693938188852"
     },
     "user_tz": 240
    },
    "id": "QwVgHVXDKVGz",
    "outputId": "c4f02b92-8247-4503-b32d-ceeec0b6e9f2"
   },
   "outputs": [],
   "source": [
    "# Define path to approach timings\n",
    "appr_file_path = join(raw_path,'{subj}/splitted_regs_fancy/{subj}_closeAllApprMR.txt')\n",
    "# Define path to retreat timings\n",
    "retr_file_path = join(raw_path,'{subj}/splitted_regs_fancy/{subj}_closeAllRetrMR.txt')\n",
    "# Path to experimental proximity values\n",
    "proximity_path = join(raw_path,'{subj}/regs_fancy/{subj}_all_regs.txt')\n",
    "\n",
    "# Define path to the shock beta map of every subject\n",
    "cortical_path = join(interim_path,'{subj}/{subj}_cortical_meanTS.1D')\n",
    "subcortical_path = join(interim_path,'{subj}/{subj}_subcortical_meanTS.1D')"
   ]
  },
  {
   "cell_type": "code",
   "execution_count": 4,
   "metadata": {},
   "outputs": [],
   "source": [
    "if not exists(join(processed_path,'00a-ROI316_withShiftedSegments.pkl')):\n",
    "    print('File does not exist')"
   ]
  },
  {
   "cell_type": "code",
   "execution_count": 5,
   "metadata": {
    "colab": {},
    "colab_type": "code",
    "executionInfo": {
     "elapsed": 312,
     "status": "ok",
     "timestamp": 1600289703625,
     "user": {
      "displayName": "Chirag Limbachia",
      "photoUrl": "",
      "userId": "10195392693938188852"
     },
     "user_tz": 240
    },
    "id": "Bj2y4sDDO4PE"
   },
   "outputs": [],
   "source": [
    "if exists(join(processed_path,'00a-ROI316_withShiftedSegments.pkl')):\n",
    "    pass\n",
    "else:\n",
    "    SEGMENTS= dict(); mean_TS = []\n",
    "    for _,row in yoked.iterrows():\n",
    "        for kind in ['uncontrol']:\n",
    "            run_list = np.arange(6)[row.loc['run0':'run5'].astype(bool)]\n",
    "            nruns = len(run_list)\n",
    "            subj=row[kind]\n",
    "            print(subj)\n",
    "\n",
    "            # Loading timeseries\n",
    "            cortical_ts = np.loadtxt(cortical_path.format(subj=subj))\n",
    "            subcortical_ts = np.loadtxt(subcortical_path.format(subj=subj))\n",
    "            ts = np.concatenate((cortical_ts,subcortical_ts),axis=1)\n",
    "            # Splitting timeseries into runs and z-scoring within subject, run, ROI\n",
    "            runs = [(X - X.mean(axis=0))/X.std(axis=0) for X in np.split(ts,nruns,axis=0)]\n",
    "\n",
    "            mean_TS.append(np.vstack(runs).mean(axis=0))\n",
    "\n",
    "            # Reading the proximity regressor and splitting it into runs\n",
    "            prox = np.split(pd.read_csv(proximity_path.format(subj=subj),sep='\\t',index_col=0).iloc[:,0].values, nruns,axis=0)\n",
    "\n",
    "            # Reading the approach and retreat onset-duration files\n",
    "            approach_file = open(appr_file_path.format(subj=subj),'r').readlines()\n",
    "            retreat_file = open(retr_file_path.format(subj=subj),'r').readlines()\n",
    "            all_seg = []; all_labels = []\n",
    "            for run in range(len(runs)):\n",
    "                ap_on, ap_du = getSelectedStims(approach_file[run])\n",
    "                peak = ap_on+ap_du\n",
    "                re_on, re_du = getSelectedStims(retreat_file[run])\n",
    "                ap_idx = getApprRetrCorrespondingIdx(peak,re_on)\n",
    "                _,peakTRs = return_closest_TR(peak[ap_idx])\n",
    "\n",
    "                print('\\tRun: ')\n",
    "                print('\\t\\tmean = 0: ',np.allclose(np.zeros_like(runs[run].mean(axis=0)),runs[run].mean(axis=0)))\n",
    "                print('\\t\\tstd = 1: ',np.allclose(np.ones_like(runs[run].std(axis=0)),runs[run].std(axis=0)))\n",
    "                # Reponse for the peak approach will be shifted by 3.75 seconds (4TRs), so lets add 4 to peakTRs\n",
    "\n",
    "                labels = np.stack([prox[run][indx-6:indx+8] for indx in peakTRs],axis=1)\n",
    "                all_labels.append(labels)\n",
    "\n",
    "                peakTRs += 3\n",
    "                peakTRs = peakTRs[peakTRs >= 12] # remove very early peakTRs so we don't run out of index when shifting back in time\n",
    "                seg = []\n",
    "                for dt in range(0,6):\n",
    "                    shifted_peakTRs = peakTRs - dt\n",
    "                    seg.append(np.stack([runs[run][indx-6:indx+8,:] for indx in shifted_peakTRs],axis=2))\n",
    "                seg = np.dstack([el for el in seg]) # change axis=3 to keep the shifted segements in a separate dim \n",
    "                #seg = np.stack([el for el in seg],axis=3)\n",
    "                all_seg.append(seg)\n",
    "            SEGMENTS[subj] = np.dstack(all_seg)\n",
    "            SEGMENTS[subj] = {'data':np.dstack(all_seg),'target':np.hstack(all_labels)}\n",
    "            \n",
    "    with open(join(processed_path,'00a-ROI316_withShiftedSegments.pkl'),'wb') as file:\n",
    "        pickle.dump(SEGMENTS,file)"
   ]
  },
  {
   "cell_type": "code",
   "execution_count": 6,
   "metadata": {
    "colab": {
     "base_uri": "https://localhost:8080/",
     "height": 187
    },
    "colab_type": "code",
    "executionInfo": {
     "elapsed": 299,
     "status": "ok",
     "timestamp": 1600289705647,
     "user": {
      "displayName": "Chirag Limbachia",
      "photoUrl": "",
      "userId": "10195392693938188852"
     },
     "user_tz": 240
    },
    "id": "TgbBJJ83UBdW",
    "outputId": "68751e9b-e63b-43fc-c90a-7c57c864c0ce"
   },
   "outputs": [],
   "source": []
  }
 ],
 "metadata": {
  "accelerator": "GPU",
  "colab": {
   "authorship_tag": "ABX9TyN/L4H9rZpw4kzpv7mVsPut",
   "name": "02-GridSearch.ipynb",
   "provenance": [],
   "toc_visible": true
  },
  "kernelspec": {
   "display_name": "Python 3.6.9 (tensorflow)",
   "language": "python",
   "name": "tensorflow"
  },
  "language_info": {
   "codemirror_mode": {
    "name": "ipython",
    "version": 3
   },
   "file_extension": ".py",
   "mimetype": "text/x-python",
   "name": "python",
   "nbconvert_exporter": "python",
   "pygments_lexer": "ipython3",
   "version": "3.6.9"
  }
 },
 "nbformat": 4,
 "nbformat_minor": 4
}
