{
 "cells": [
  {
   "cell_type": "markdown",
   "metadata": {},
   "source": [
    "# Grid Search and Model Selection"
   ]
  },
  {
   "cell_type": "code",
   "execution_count": 1,
   "metadata": {},
   "outputs": [],
   "source": [
    "default_wrkspc = dir()"
   ]
  },
  {
   "cell_type": "code",
   "execution_count": 2,
   "metadata": {},
   "outputs": [
    {
     "name": "stdout",
     "output_type": "stream",
     "text": [
      "Current branch\n",
      "* explore_appr_retr\n",
      "  master\n"
     ]
    }
   ],
   "source": [
    "%%bash\n",
    "echo \"Current branch\"\n",
    "git branch"
   ]
  },
  {
   "cell_type": "code",
   "execution_count": 3,
   "metadata": {},
   "outputs": [
    {
     "name": "stdout",
     "output_type": "stream",
     "text": [
      "2020-10-08T23:54:17-04:00\n",
      "\n",
      "CPython 3.6.9\n",
      "IPython 7.16.1\n",
      "\n",
      "compiler   : GCC 8.4.0\n",
      "system     : Linux\n",
      "release    : 4.15.0-1093-oem\n",
      "machine    : x86_64\n",
      "processor  : x86_64\n",
      "CPU cores  : 20\n",
      "interpreter: 64bit\n"
     ]
    }
   ],
   "source": [
    "%load_ext watermark\n",
    "%watermark"
   ]
  },
  {
   "cell_type": "code",
   "execution_count": 4,
   "metadata": {},
   "outputs": [],
   "source": [
    "from src.preprocess.dataset import *\n",
    "from src.models.model_selection import classifier, run_majority_vote, MyGridSearchCV\n",
    "import os\n",
    "import tensorflow as tf\n",
    "\n",
    "import matplotlib.pyplot as plt\n",
    "import seaborn as sns\n",
    "sns.set_theme(context='paper', style='whitegrid', \n",
    "              palette='deep', font='sans-serif', \n",
    "              font_scale=1.25, color_codes=True, rc=None)\n",
    "%matplotlib inline"
   ]
  },
  {
   "cell_type": "markdown",
   "metadata": {},
   "source": [
    "## Load Data "
   ]
  },
  {
   "cell_type": "code",
   "execution_count": 5,
   "metadata": {},
   "outputs": [
    {
     "name": "stdout",
     "output_type": "stream",
     "text": [
      "Number of subjects:  61\n",
      "\n",
      "\n",
      "Subject IDs:\n",
      " ['CON031', 'CON021', 'CON022', 'CON030', 'CON023', 'CON025', 'CON016', 'CON053', 'CON052', 'CON089', 'CON020', 'CON033', 'CON019', 'CON084', 'CON027', 'CON049', 'CON028', 'CON026', 'CON054', 'CON034', 'CON036', 'CON058', 'CON056', 'CON075', 'CON072', 'CON055', 'CON061', 'CON057', 'CON067', 'CON064', 'CON068', 'CON059', 'CON051', 'CON078', 'CON077', 'CON066', 'CON098', 'CON076', 'CON073', 'CON085', 'CON091', 'CON090', 'CON082', 'CON121', 'CON097', 'CON101', 'CON092', 'CON103', 'CON102', 'CON099', 'CON096', 'CON106', 'CON110', 'CON119', 'CON118', 'CON116', 'CON114', 'CON113', 'CON123', 'CON120', 'CON125']\n",
      "\n",
      "\n",
      "Single subject data shape (timepoints, ROIs, trials*6): (14, 316, 222)\n"
     ]
    }
   ],
   "source": [
    "path = '/home/climbach/approach-retreat/data/raw/00a-ROI316_withShiftedSegments.pkl'\n",
    "dataset = Dataset(path)\n",
    "dataset.load()\n",
    "\n",
    "print('Number of subjects: ',len(dataset.sid()))\n",
    "print('\\n')\n",
    "print('Subject IDs:\\n', dataset.sid())\n",
    "print('\\n')\n",
    "print('Single subject data shape (timepoints, ROIs, trials*6):', dataset.data['CON031']['data'].shape) #"
   ]
  },
  {
   "cell_type": "markdown",
   "metadata": {},
   "source": [
    "Number of `timepoints` and `ROIs` are consistent across subjects. Number of `trials` can vary across subjects."
   ]
  },
  {
   "cell_type": "markdown",
   "metadata": {},
   "source": [
    "## Reorganize the data\n",
    "\n",
    "Every trial consists of 14 timepoints. First 7 timepoints reflect __approach__ period and later 7 reflect __retreat__ period.\n",
    "Trials are split accordingly and given appropriate labels (approach = 0, retreat = 1). "
   ]
  },
  {
   "cell_type": "code",
   "execution_count": 6,
   "metadata": {},
   "outputs": [
    {
     "data": {
      "text/html": [
       "<div>\n",
       "<style scoped>\n",
       "    .dataframe tbody tr th:only-of-type {\n",
       "        vertical-align: middle;\n",
       "    }\n",
       "\n",
       "    .dataframe tbody tr th {\n",
       "        vertical-align: top;\n",
       "    }\n",
       "\n",
       "    .dataframe thead th {\n",
       "        text-align: right;\n",
       "    }\n",
       "</style>\n",
       "<table border=\"1\" class=\"dataframe\">\n",
       "  <thead>\n",
       "    <tr style=\"text-align: right;\">\n",
       "      <th></th>\n",
       "      <th>participant</th>\n",
       "      <th>trial</th>\n",
       "      <th>data</th>\n",
       "      <th>label</th>\n",
       "    </tr>\n",
       "  </thead>\n",
       "  <tbody>\n",
       "    <tr>\n",
       "      <th>0</th>\n",
       "      <td>CON031</td>\n",
       "      <td>0</td>\n",
       "      <td>[[0.641909009960325, 0.0788363590406541, -0.04...</td>\n",
       "      <td>0</td>\n",
       "    </tr>\n",
       "    <tr>\n",
       "      <th>1</th>\n",
       "      <td>CON031</td>\n",
       "      <td>0</td>\n",
       "      <td>[[-0.8210910351920893, -1.0944066893755182, -0...</td>\n",
       "      <td>1</td>\n",
       "    </tr>\n",
       "    <tr>\n",
       "      <th>0</th>\n",
       "      <td>CON031</td>\n",
       "      <td>1</td>\n",
       "      <td>[[0.8032866261272865, 0.7311608513515205, 0.17...</td>\n",
       "      <td>0</td>\n",
       "    </tr>\n",
       "    <tr>\n",
       "      <th>1</th>\n",
       "      <td>CON031</td>\n",
       "      <td>1</td>\n",
       "      <td>[[1.1776041685655705, 1.0867125807062854, 1.18...</td>\n",
       "      <td>1</td>\n",
       "    </tr>\n",
       "    <tr>\n",
       "      <th>0</th>\n",
       "      <td>CON031</td>\n",
       "      <td>2</td>\n",
       "      <td>[[-0.3909084241596723, -0.14129164235627137, -...</td>\n",
       "      <td>0</td>\n",
       "    </tr>\n",
       "  </tbody>\n",
       "</table>\n",
       "</div>"
      ],
      "text/plain": [
       "  participant  trial                                               data  label\n",
       "0      CON031      0  [[0.641909009960325, 0.0788363590406541, -0.04...      0\n",
       "1      CON031      0  [[-0.8210910351920893, -1.0944066893755182, -0...      1\n",
       "0      CON031      1  [[0.8032866261272865, 0.7311608513515205, 0.17...      0\n",
       "1      CON031      1  [[1.1776041685655705, 1.0867125807062854, 1.18...      1\n",
       "0      CON031      2  [[-0.3909084241596723, -0.14129164235627137, -...      0"
      ]
     },
     "execution_count": 6,
     "metadata": {},
     "output_type": "execute_result"
    }
   ],
   "source": [
    "dataset_df = organize_dataset(dataset.data)\n",
    "dataset_df.head()"
   ]
  },
  {
   "cell_type": "markdown",
   "metadata": {},
   "source": [
    "## Train test split"
   ]
  },
  {
   "cell_type": "code",
   "execution_count": 7,
   "metadata": {},
   "outputs": [],
   "source": [
    "dataset.train_test_split_sid()\n",
    "X_train, y_train = query_dataset(dataset_df,dataset.train_idx)\n",
    "X_test, y_test = query_dataset(dataset_df,dataset.test_idx)"
   ]
  },
  {
   "cell_type": "markdown",
   "metadata": {},
   "source": [
    "## Perform Grid Sreach"
   ]
  },
  {
   "cell_type": "code",
   "execution_count": 8,
   "metadata": {},
   "outputs": [],
   "source": [
    "# Define the parameter grid for grid search\n",
    "grid_search_out_path = \"../../models/grid_search_results.pkl\"\n",
    "if os.path.isfile(grid_search_out_path):\n",
    "    with open(grid_search_out_path,\"rb\") as f:\n",
    "        results, param_grid = pkl.load(f)\n",
    "else:\n",
    "    params = {'L2':[0,0.001,0.003,0.01,0.03],\n",
    "          'dropout':[0, 0.1, 0.2, 0.3, 0.4],\n",
    "          'lr':[0.001,0.003,0.006]}\n",
    "    grid_search = MyGridSearchCV()\n",
    "    grid_search.fit(dataset_df, dataset.train_idx[:4], classifier, params,cv=3, n_models=2)\n",
    "    results = grid_search.results\n",
    "    param_grid = grid_search.param_grid\n",
    "    \n",
    "    # Save the results and parameter grid in as pickle file\n",
    "    #with open('../models/grid_search_results.pkl',\"wb\") as f:\n",
    "    #    pkl.dump([results,param_grid],f)"
   ]
  },
  {
   "cell_type": "code",
   "execution_count": 9,
   "metadata": {},
   "outputs": [],
   "source": [
    "table = pd.DataFrame.from_dict({(i,j,k): results[i][j][k] for i in results.keys() for j in results[i].keys() for k in results[i][j].keys()}).T\n",
    "table.reset_index(inplace=True)\n",
    "table.rename(columns={'level_0':'model','level_1':'fold','level_2':'set',0:'acc'},inplace=True)\n",
    "table['mod_num'] = table.model.str[5:].astype(int)"
   ]
  },
  {
   "cell_type": "code",
   "execution_count": 10,
   "metadata": {},
   "outputs": [
    {
     "data": {
      "image/png": "[encoded data removed]",
      "text/plain": [
       "<Figure size 1440x360 with 1 Axes>"
      ]
     },
     "metadata": {
      "needs_background": "light"
     },
     "output_type": "display_data"
    }
   ],
   "source": [
    "order = table[table['set']=='val'].groupby('mod_num')['acc'].mean().sort_values(ascending = False).index\n",
    "plt.figure(figsize=(20,5))\n",
    "sns.barplot(x='mod_num',y='acc',hue='set',ci='sd',data=table,palette=['C0','C1'],order=order)\n",
    "plt.axhline(0.5,c='red')\n",
    "plt.axhline(table[table['set']=='val'].groupby(['mod_num'])['acc'].mean().max(),c='green')\n",
    "_=plt.xticks(rotation=90)"
   ]
  },
  {
   "cell_type": "markdown",
   "metadata": {},
   "source": [
    "## Final Model"
   ]
  },
  {
   "cell_type": "code",
   "execution_count": 11,
   "metadata": {},
   "outputs": [
    {
     "name": "stdout",
     "output_type": "stream",
     "text": [
      "WARNING:tensorflow:Layer gru_438 will not use cuDNN kernel since it doesn't meet the cuDNN kernel criteria. It will use generic GPU kernel as fallback when running on GPU\n",
      "WARNING:tensorflow:Layer gru_439 will not use cuDNN kernel since it doesn't meet the cuDNN kernel criteria. It will use generic GPU kernel as fallback when running on GPU\n",
      "WARNING:tensorflow:Layer gru_440 will not use cuDNN kernel since it doesn't meet the cuDNN kernel criteria. It will use generic GPU kernel as fallback when running on GPU\n"
     ]
    }
   ],
   "source": [
    "model_path = \"../../models/CustomGRU_ROI316_withShiftedSegments.h5\"\n",
    "if os.path.isfile(model_path):\n",
    "    model = tf.keras.models.load_model(model_path)\n",
    "else:\n",
    "    params = {'l2': 0.001, 'dropout': 0.4, 'lr': 0.001}\n",
    "    model = classifier(X_train,y_train,params['L2'],params['dropout'],params['lr'])\n",
    "    #model.save(model_path)"
   ]
  },
  {
   "cell_type": "code",
   "execution_count": 12,
   "metadata": {},
   "outputs": [
    {
     "name": "stdout",
     "output_type": "stream",
     "text": [
      "Training Accuracy:\n",
      "708/708 [==============================] - 10s 13ms/step - loss: 0.4208 - acc: 0.8312\n",
      "Validation Accuracy:\n",
      "309/309 [==============================] - 4s 13ms/step - loss: 0.4946 - acc: 0.7861\n"
     ]
    },
    {
     "data": {
      "text/plain": [
       "[0.4945836365222931, 0.7861043810844421]"
      ]
     },
     "execution_count": 12,
     "metadata": {},
     "output_type": "execute_result"
    }
   ],
   "source": [
    "print('Training Accuracy:')\n",
    "model.evaluate(X_train,y_train)\n",
    "print('Validation Accuracy:')\n",
    "model.evaluate(X_test,y_test)"
   ]
  }
 ],
 "metadata": {
  "kernelspec": {
   "display_name": "Python 3.6.9 (tensorflow)",
   "language": "python",
   "name": "tensorflow"
  },
  "language_info": {
   "codemirror_mode": {
    "name": "ipython",
    "version": 3
   },
   "file_extension": ".py",
   "mimetype": "text/x-python",
   "name": "python",
   "nbconvert_exporter": "python",
   "pygments_lexer": "ipython3",
   "version": "3.6.9"
  }
 },
 "nbformat": 4,
 "nbformat_minor": 4
}
