{
 "cells": [
  {
   "cell_type": "markdown",
   "metadata": {},
   "source": [
    "# Introduction\n",
    "\n",
    "Different stimuli evoke different brain response, which allows an organism to respond to a stimulus of a particular kind in a particular way. Therefore an interesting question that can be asked about the brain-stimuli relationship is: can one predict the stimuli by looking at the evoked brain response?\n",
    " \n",
    "In this paroject, dynamic brain activity patterns of human subjects, captured by fMRI, in response to approaching and retreating threats is used to predict the stimulus class.\n",
    "\n",
    "## What is fMRI data?\n",
    "\n",
    "- Functional Magnetic Resonance Imaging (fMRI) is a timeseries data.\n",
    "- Like a movie of the brain.\n",
    "- Each frame (timepoint) is a 3D volume.\n",
    "- The unit of the 3D volume is a voxel (analogous to pixel of a 2D image).  \n",
    "- Dimensions of a voxel is generally 3mm x 3mm x 3mm.\n",
    "- Rate at which fMRI data is collected is commonly referred to as repetition time (TR).\n",
    "- Commonly used TR is 0.5-2 seconds per volume. TR = 1.25 seconds for the current study.\n",
    "\n",
    "<img src=\"../../support/images/fmridata.png\" alt=\"fMRI data\" width=\"600\"/>\n",
    "(https://psychology.stackexchange.com/questions/19587/what-does-fmri-data-look-like-after-pre-processing)"
   ]
  },
  {
   "cell_type": "markdown",
   "metadata": {},
   "source": [
    "## Typical fMRI setup\n",
    "- Participant views a visual stimuli on a projection screen via a mirror mounted to the scanner's head coil.  \n",
    "- Head coil measures the brain signal.  \n",
    "\n",
    "<img src=\"../../support/images/fmri-setup.png\" alt=\"fMRI data\" width=\"1000\"/>\n",
    "\n",
    "A) Participant in the fMRI scanner, B) Head coil with a mounted mirror, C) Full setup schematic."
   ]
  },
  {
   "cell_type": "code",
   "execution_count": null,
   "metadata": {},
   "outputs": [],
   "source": []
  }
 ],
 "metadata": {
  "kernelspec": {
   "display_name": "Python 3",
   "language": "python",
   "name": "python3"
  },
  "language_info": {
   "codemirror_mode": {
    "name": "ipython",
    "version": 3
   },
   "file_extension": ".py",
   "mimetype": "text/x-python",
   "name": "python",
   "nbconvert_exporter": "python",
   "pygments_lexer": "ipython3",
   "version": "3.6.9"
  }
 },
 "nbformat": 4,
 "nbformat_minor": 4
}
